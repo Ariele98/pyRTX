{
 "cells": [
  {
   "cell_type": "markdown",
   "id": "ed45a345-c9c0-4b2a-8b07-437e3bb9775e",
   "metadata": {},
   "source": [
    "# Ray tracing basics\n",
    "\n",
    "The goal of this example is to show how to perform a very simple ray-tracing of a generic shape and visualize the results.\n",
    "\n",
    "In this example we will show how to compute the interaction between the impinging rays and the shape accounting for specular reflection and diffusion.\n",
    "\n",
    "We will also show how to determine which parts of the shape are impinged by the first, second, third, .., reflectiona and represent it graphically.\n",
    "\n",
    "Note: Since here we want to show very basic functionalities of the library, we will use directly the core utilities, without using the more complex classes (Spacecraft, PixelPlane, etc.)"
   ]
  },
  {
   "cell_type": "code",
   "execution_count": 1,
   "id": "d9b27ddc-2d74-4a98-a010-b89531960c4d",
   "metadata": {},
   "outputs": [],
   "source": [
    "import trimesh as tm\n",
    "import numpy as np\n",
    "import spiceypy as sp\n",
    "import matplotlib.pyplot as plt\n",
    "import matplotlib\n",
    "from matplotlib.colors import to_rgba_array\n",
    "\n",
    "from pyRTX.classes.PixelPlane import PixelPlane\n",
    "from pyRTX.core import utils_rt"
   ]
  },
  {
   "cell_type": "markdown",
   "id": "44546d08-4337-4630-9d2d-bc20b42393c7",
   "metadata": {},
   "source": [
    "We can apply the same example to different shapes. Choose here below which one"
   ]
  },
  {
   "cell_type": "code",
   "execution_count": 2,
   "id": "e368ffc1-38fa-435b-8ada-ca2ab261dbf1",
   "metadata": {},
   "outputs": [],
   "source": [
    "#obj = 'Annulus'\n",
    "obj = 'Sphere'"
   ]
  },
  {
   "cell_type": "code",
   "execution_count": 3,
   "id": "75f77f3e-3c37-4ac9-867c-4c8e183f5599",
   "metadata": {},
   "outputs": [],
   "source": [
    "if obj == 'Annulus':\n",
    "    mesh = tm.creation.annulus(1,2,height = 1)\n",
    "elif obj == 'Sphere':\n",
    "    mesh = mesh = tm.creation.icosphere(radius = 1, subdivisions = 4)\n",
    "    "
   ]
  },
  {
   "cell_type": "markdown",
   "id": "c93c5842-ebcb-4c81-8ee2-2d1892543ef0",
   "metadata": {},
   "source": [
    "Let's set up the origin of the ray-tracing rays. We set up the so-called Pixel Plane at a certain RA/DEC (or lat/lon) with respect to the base reference frame.\n",
    "The PixelPlane object method `.dump()` returns the origin coordinates and directions of the ray tracing rays"
   ]
  },
  {
   "cell_type": "code",
   "execution_count": 4,
   "id": "7a5d64ed-2597-4fd1-aaf3-893edb96a8ac",
   "metadata": {},
   "outputs": [],
   "source": [
    "RA = 0\n",
    "DEC = 0\n",
    "\n",
    "pixelPlane = PixelPlane(\n",
    "        spacecraft = 'None',\n",
    "        mode = 'Fixed',\n",
    "        distance = 3,\n",
    "        width = 2,\n",
    "        height = 2,\n",
    "        ray_spacing = 0.1,\n",
    "        lon = RA,\n",
    "        lat = DEC,\n",
    "        units = 'km',\n",
    ")\n",
    "        \n",
    "\n",
    "ray_origins, ray_directions = pixelPlane.dump()"
   ]
  },
  {
   "cell_type": "markdown",
   "id": "c240edd6-b997-44ec-a552-f78b35f57df4",
   "metadata": {},
   "source": [
    "We can use these points/directions as the input of the ray tracer.\n",
    "\n",
    "Here we set the options of the ray tracer:\n",
    "\n",
    "- number of reflections\n",
    "- diffusion activated/not activated\n",
    "\n",
    "\n",
    "`utils_rt.RTXkernel()` returns:\n",
    "- index_tri_container : an array of arrays containing the indexes of the mesh vertices that have been hit by the tracing rays. if more than one bounce is computed then, the array will be structured as follows [ [indexes_bounce_1], [indexes_bounce_2],...]\n",
    "- index_ray_container : an array of arrays containing the indexes of the rays that have hit the mesh. \n",
    "- locations_container : an array of arrays containing the coordinates of the hit points\n",
    "- ray_directions_container :  an array containing the direction unit vectors of the reflected rays\n",
    "- diffusion pack: a container with the information on the diffused rays. This will be discussed separately in another tutorial"
   ]
  },
  {
   "cell_type": "code",
   "execution_count": 5,
   "id": "c6052294-195c-4cef-b010-333b9d8a408d",
   "metadata": {},
   "outputs": [],
   "source": [
    "result = utils_rt.RTXkernel(\n",
    "    \n",
    "    \n",
    "    mesh,              # Mesh object\n",
    "    ray_origins,       # Coordinates of the origins of the tracing rays\n",
    "    ray_directions,    # Directions of the tracing rays\n",
    "    kernel = 'Embree', # Ray tracing kernel (see documentation)\n",
    "    bounces = 2,       # Number of reflections to compute\n",
    "    diffusion = False, # Compute the diffused rays after the first reflection?\n",
    "                                                                            \n",
    ")\n",
    "\n",
    "index_tri_container = result[0]\n",
    "index_ray_container = result[1] \n",
    "locations_container = result[2]\n",
    "ray_origins_container = result[3]\n",
    "ray_directions_container = result[4]\n",
    "diffusion_pack = result[5]"
   ]
  },
  {
   "cell_type": "markdown",
   "id": "580df37b-9375-456d-bb6c-b8c7debced93",
   "metadata": {},
   "source": [
    "Visualize the impinging rays and the hit surfaces.\n",
    "\n",
    "We first set the colors of the various entities:"
   ]
  },
  {
   "cell_type": "code",
   "execution_count": 6,
   "id": "a49b5dc2-d9b9-433c-a523-14cb5734a4f3",
   "metadata": {},
   "outputs": [],
   "source": [
    "base_mesh_color = 'blue'\n",
    "hit_faces_colors = 'red'\n",
    "rays_color = 'yellow'"
   ]
  },
  {
   "cell_type": "code",
   "execution_count": 7,
   "id": "3231fc8d-3548-456a-9339-42d8a2add691",
   "metadata": {},
   "outputs": [
    {
     "ename": "IndexError",
     "evalue": "index 3136 is out of bounds for axis 0 with size 1",
     "output_type": "error",
     "traceback": [
      "\u001b[0;31m---------------------------------------------------------------------------\u001b[0m",
      "\u001b[0;31mIndexError\u001b[0m                                Traceback (most recent call last)",
      "Cell \u001b[0;32mIn[7], line 7\u001b[0m\n\u001b[1;32m      4\u001b[0m mesh\u001b[38;5;241m.\u001b[39munmerge_vertices()\n\u001b[1;32m      6\u001b[0m mesh\u001b[38;5;241m.\u001b[39mvisual\u001b[38;5;241m.\u001b[39mface_colors \u001b[38;5;241m=\u001b[39m to_rgba_array(base_mesh_color)\u001b[38;5;66;03m#[255, 255, 255, 255]\u001b[39;00m\n\u001b[0;32m----> 7\u001b[0m \u001b[43mmesh\u001b[49m\u001b[38;5;241;43m.\u001b[39;49m\u001b[43mvisual\u001b[49m\u001b[38;5;241;43m.\u001b[39;49m\u001b[43mface_colors\u001b[49m\u001b[43m[\u001b[49m\u001b[43mindex_tri_container\u001b[49m\u001b[43m[\u001b[49m\u001b[38;5;241;43m0\u001b[39;49m\u001b[43m]\u001b[49m\u001b[43m]\u001b[49m \u001b[38;5;241m=\u001b[39m [\u001b[38;5;241m255\u001b[39m,\u001b[38;5;241m0\u001b[39m,\u001b[38;5;241m0\u001b[39m,\u001b[38;5;241m255\u001b[39m]\n\u001b[1;32m      8\u001b[0m ray_visualize\u001b[38;5;241m.\u001b[39mcolors \u001b[38;5;241m=\u001b[39m np\u001b[38;5;241m.\u001b[39mfull((\u001b[38;5;28mlen\u001b[39m(ray_origins),\u001b[38;5;241m4\u001b[39m),[\u001b[38;5;241m238\u001b[39m,\u001b[38;5;241m196\u001b[39m,\u001b[38;5;241m4\u001b[39m,\u001b[38;5;241m100\u001b[39m])\n\u001b[1;32m     10\u001b[0m scene \u001b[38;5;241m=\u001b[39m tm\u001b[38;5;241m.\u001b[39mScene([mesh, ray_visualize]) \u001b[38;5;66;03m#, ray_visualize2,\u001b[39;00m\n",
      "File \u001b[0;32m/opt/miniconda3/envs/py38/lib/python3.8/site-packages/trimesh/caching.py:354\u001b[0m, in \u001b[0;36mTrackedArray.__setitem__\u001b[0;34m(self, *args, **kwargs)\u001b[0m\n\u001b[1;32m    352\u001b[0m \u001b[38;5;28mself\u001b[39m\u001b[38;5;241m.\u001b[39m_modified_m \u001b[38;5;241m=\u001b[39m \u001b[38;5;28;01mTrue\u001b[39;00m\n\u001b[1;32m    353\u001b[0m \u001b[38;5;28mself\u001b[39m\u001b[38;5;241m.\u001b[39m_modified_x \u001b[38;5;241m=\u001b[39m \u001b[38;5;28;01mTrue\u001b[39;00m\n\u001b[0;32m--> 354\u001b[0m \u001b[38;5;28;43msuper\u001b[39;49m\u001b[43m(\u001b[49m\u001b[38;5;28;43mself\u001b[39;49m\u001b[38;5;241;43m.\u001b[39;49m\u001b[38;5;18;43m__class__\u001b[39;49m\u001b[43m,\u001b[49m\u001b[43m \u001b[49m\u001b[38;5;28;43mself\u001b[39;49m\u001b[43m)\u001b[49m\u001b[38;5;241;43m.\u001b[39;49m\u001b[38;5;21;43m__setitem__\u001b[39;49m\u001b[43m(\u001b[49m\u001b[38;5;241;43m*\u001b[39;49m\u001b[43margs\u001b[49m\u001b[43m,\u001b[49m\n\u001b[1;32m    355\u001b[0m \u001b[43m                                        \u001b[49m\u001b[38;5;241;43m*\u001b[39;49m\u001b[38;5;241;43m*\u001b[39;49m\u001b[43mkwargs\u001b[49m\u001b[43m)\u001b[49m\n",
      "\u001b[0;31mIndexError\u001b[0m: index 3136 is out of bounds for axis 0 with size 1"
     ]
    }
   ],
   "source": [
    "# First Bounce visualization\n",
    "ray_visualize = tm.load_path(np.hstack(( ray_origins, ray_origins + ray_directions*2.0)).reshape(-1, 2, 3))\n",
    "\n",
    "mesh.unmerge_vertices()\n",
    "\n",
    "mesh.visual.face_colors = to_rgba_array(base_mesh_color)#[255, 255, 255, 255]\n",
    "mesh.visual.face_colors[index_tri_container[0]] = [255,0,0,255]\n",
    "ray_visualize.colors = np.full((len(ray_origins),4),[238,196,4,100])\n",
    "\n",
    "scene = tm.Scene([mesh, ray_visualize]) #, ray_visualize2,\n",
    "scene.show()"
   ]
  },
  {
   "cell_type": "code",
   "execution_count": null,
   "id": "7cebb3de-e7f6-4ae7-a8ca-b168b302af67",
   "metadata": {},
   "outputs": [],
   "source": []
  }
 ],
 "metadata": {
  "kernelspec": {
   "display_name": "py38",
   "language": "python",
   "name": "py38"
  },
  "language_info": {
   "codemirror_mode": {
    "name": "ipython",
    "version": 3
   },
   "file_extension": ".py",
   "mimetype": "text/x-python",
   "name": "python",
   "nbconvert_exporter": "python",
   "pygments_lexer": "ipython3",
   "version": "3.8.12"
  }
 },
 "nbformat": 4,
 "nbformat_minor": 5
}
